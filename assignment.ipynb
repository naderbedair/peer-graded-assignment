{
 "cells": [
  {
   "cell_type": "markdown",
   "id": "355a9b6e-379c-412e-9add-29fea81cab12",
   "metadata": {},
   "source": [
    "# My Jupyter Notebook on IBM Watson Studio"
   ]
  },
  {
   "cell_type": "markdown",
   "id": "9a2506bd-462f-4f37-98df-b2db266caa06",
   "metadata": {},
   "source": [
    "**Introduction**\n",
    "\n",
    "i am recent university graduate looking to get into data science"
   ]
  },
  {
   "cell_type": "markdown",
   "id": "d4372519-ae49-4956-9842-6e71c774e443",
   "metadata": {},
   "source": [
    "** Data science Languages**\n",
    "* python\n",
    "* SQL\n",
    "* R\n"
   ]
  },
  {
   "cell_type": "markdown",
   "id": "467ae932-878b-4bd3-ac2a-39ea53678bc2",
   "metadata": {},
   "source": [
    "** Data Science Libraries**\n",
    "* TensorFlow\n",
    "* NumPy\n",
    "* Pandas\n",
    "\n"
   ]
  },
  {
   "cell_type": "markdown",
   "id": "272279d9-3cd1-44f6-b516-4155685bf037",
   "metadata": {},
   "source": [
    "1+2=3"
   ]
  },
  {
   "cell_type": "code",
   "execution_count": 4,
   "id": "a96dcf69-e070-4f4a-86a5-ed8859913371",
   "metadata": {},
   "outputs": [
    {
     "data": {
      "text/plain": [
       "23"
      ]
     },
     "execution_count": 4,
     "metadata": {},
     "output_type": "execute_result"
    }
   ],
   "source": [
    "(5*3+8)"
   ]
  },
  {
   "cell_type": "markdown",
   "id": "25da5cdc-1b06-405c-afa5-5875a9c27289",
   "metadata": {},
   "source": [
    "**Objectives**\n",
    "* objective 1\n",
    "* objective 2\n",
    "* objective 3"
   ]
  },
  {
   "cell_type": "markdown",
   "id": "6d608f78-22c1-479e-b15b-87ea97343954",
   "metadata": {},
   "source": [
    "**Author: Nader Bedair**"
   ]
  },
  {
   "cell_type": "code",
   "execution_count": null,
   "id": "c4f51f3c-6e43-491d-96fd-937587f967ab",
   "metadata": {},
   "outputs": [],
   "source": []
  }
 ],
 "metadata": {
  "kernelspec": {
   "display_name": "Python",
   "language": "python",
   "name": "conda-env-python-py"
  },
  "language_info": {
   "codemirror_mode": {
    "name": "ipython",
    "version": 3
   },
   "file_extension": ".py",
   "mimetype": "text/x-python",
   "name": "python",
   "nbconvert_exporter": "python",
   "pygments_lexer": "ipython3",
   "version": "3.7.12"
  }
 },
 "nbformat": 4,
 "nbformat_minor": 5
}
