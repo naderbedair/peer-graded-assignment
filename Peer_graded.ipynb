{
 "cells": [
  {
   "cell_type": "markdown",
   "id": "c9a6d0f5-419f-4b0a-9119-92403f953b99",
   "metadata": {
    "tags": []
   },
   "source": [
    "# My Jupyter Notebook on IBM Watson Studio"
   ]
  },
  {
   "cell_type": "markdown",
   "id": "1911449c-68ec-4105-9048-d2527c1cc31f",
   "metadata": {},
   "source": [
    "**Nader Bedair**\n",
    "\n",
    "i am recent university graduate looking to get into data science"
   ]
  },
  {
   "cell_type": "markdown",
   "id": "3744b221-88c8-43ca-8625-2b37ac8dfe91",
   "metadata": {},
   "source": [
    "*I am interested in data science because i find analysing data to be fascinating. I think its a necessity for any business*"
   ]
  },
  {
   "cell_type": "markdown",
   "id": "bfd55115-4a0d-4cd5-99c1-11a089bebf6a",
   "metadata": {},
   "source": [
    "### The code in cell 5 must print the words \"Hello World\""
   ]
  },
  {
   "cell_type": "code",
   "execution_count": 9,
   "id": "693e19a6-3b56-40d4-88f6-c4b38482b0ad",
   "metadata": {},
   "outputs": [
    {
     "name": "stdout",
     "output_type": "stream",
     "text": [
      "hello world\n"
     ]
    }
   ],
   "source": [
    "print (\"hello world\")"
   ]
  },
  {
   "cell_type": "markdown",
   "id": "9fa82f5f-f6ce-443a-93c2-1798fe1cd858",
   "metadata": {},
   "source": [
    "* Bullet List Item 01\n",
    "\n",
    "* Bullet List Item 02\n",
    "\n",
    "* Bullet List Item 03\n",
    "\n",
    "1. Numbered List Item 01\n",
    "\n",
    "2. Numbered List Item 02\n",
    "\n",
    "3. Numbered List Item 03\n",
    "\n",
    "| Column 01 | Column 02 | Column 03 | Column 04 | Column 05 |\n",
    "|-----------|-----------|-----------|-----------|-----------|\n",
    "|\n"
   ]
  },
  {
   "cell_type": "code",
   "execution_count": null,
   "id": "835eda77-3a8f-4dbc-a0d4-c2dc292f0e7f",
   "metadata": {},
   "outputs": [],
   "source": []
  }
 ],
 "metadata": {
  "kernelspec": {
   "display_name": "Python",
   "language": "python",
   "name": "conda-env-python-py"
  },
  "language_info": {
   "codemirror_mode": {
    "name": "ipython",
    "version": 3
   },
   "file_extension": ".py",
   "mimetype": "text/x-python",
   "name": "python",
   "nbconvert_exporter": "python",
   "pygments_lexer": "ipython3",
   "version": "3.7.12"
  }
 },
 "nbformat": 4,
 "nbformat_minor": 5
}
